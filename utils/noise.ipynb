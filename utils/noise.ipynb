{
 "cells": [
  {
   "cell_type": "code",
   "execution_count": 42,
   "metadata": {},
   "outputs": [],
   "source": [
    "a = range(1,100)"
   ]
  },
  {
   "cell_type": "code",
   "execution_count": 49,
   "metadata": {},
   "outputs": [],
   "source": [
    "import numpy\n",
    "import matplotlib as plt"
   ]
  },
  {
   "cell_type": "markdown",
   "metadata": {},
   "source": [
    "# Poisson Noise"
   ]
  },
  {
   "cell_type": "code",
   "execution_count": 55,
   "metadata": {},
   "outputs": [
    {
     "name": "stdout",
     "output_type": "stream",
     "text": [
      "noiced: [ 49  54  44  59  61  65  41  54  68  69  64  66  48  68  85  64  79  73\n",
      "  63  75  69  77  74  72  82  80  62  85  66  75  79  75  84  72  95  81\n",
      "  88  94  98  87  82  90  86 102 112  88  86  94  90  88 105 111 111 103\n",
      " 109 103 110 123 107 122 103 102 108 114 110 117 141 120 102 133 116 117\n",
      " 115 115 123 134 139 134 124 119 133 131 131 122 132 138 142 139 131 136\n",
      " 139 154 148 160 150 144 152 156 138]\n",
      "errors:  [48 52 41 55 56 59 34 46 59 59 53 54 35 54 70 48 62 55 44 55 48 55 51 48\n",
      " 57 54 35 57 37 45 48 43 51 38 60 45 51 56 59 47 41 48 43 58 67 42 39 46\n",
      " 41 38 54 59 58 49 54 47 53 65 48 62 42 40 45 50 45 51 74 52 33 63 45 45\n",
      " 42 41 48 58 62 56 45 39 52 49 48 38 47 52 55 51 42 46 48 62 55 66 55 48\n",
      " 55 58 39]\n",
      "delta:  4978\n"
     ]
    }
   ],
   "source": [
    "noice = numpy.random.poisson(numpy.mean(a), len(a))\n",
    "\n",
    "print(\"noiced:\", a + noice)\n",
    "print(\"errors: \", noice)\n",
    "print(\"delta: \", sum(noice))\n"
   ]
  },
  {
   "cell_type": "code",
   "execution_count": 66,
   "metadata": {},
   "outputs": [
    {
     "name": "stdout",
     "output_type": "stream",
     "text": [
      "noiced: [  3   3   5   6   7   3   5   7  10  12   9  15  15  18  13  18  19  22\n",
      "  21  23  18  15  26  21  28  24  23  29  28  27  33  41  34  44  34  29\n",
      "  32  46  40  46  36  39  39  47  44  51  42  48  46  56  62  47  51  60\n",
      "  61  63  69  71  65  53  58  58  50  62  68  64  71  76  69  78  60  68\n",
      "  69  83  79  68  69  87  83  83  88  87  75  77  83  86  85  89  75 103\n",
      "  95  93  86  98 110  87 115 119 106]\n",
      "errors:  [ -2  -1  -2  -2  -2   3   2   1  -1  -2   2  -3  -2  -4   2  -2  -2  -4\n",
      "  -2  -3   3   7  -3   3  -3   2   4  -1   1   3  -2  -9  -1 -10   1   7\n",
      "   5  -8  -1  -6   5   3   4  -3   1  -5   5   0   3  -6 -11   5   2  -6\n",
      "  -6  -7 -12 -13  -6   7   3   4  13   2  -3   2  -4  -8   0  -8  11   4\n",
      "   4  -9  -4   8   8  -9  -4  -3  -7  -5   8   7   2   0   2  -1  14 -13\n",
      "  -4  -1   7  -4 -15   9 -18 -21  -7]\n",
      "delta:  -1.1313131313131313\n"
     ]
    }
   ],
   "source": [
    "numpy.random.seed()\n",
    "noice2 = numpy.random.poisson(a)\n",
    "print(\"noiced:\", noice2)\n",
    "print(\"errors: \", a - noice2)\n",
    "print(\"delta: \", sum(a - noice2)/len(a))"
   ]
  },
  {
   "cell_type": "code",
   "execution_count": 135,
   "metadata": {},
   "outputs": [
    {
     "data": {
      "image/png": "[encoded data removed]",
      "text/plain": [
       "<Figure size 144x144 with 1 Axes>"
      ]
     },
     "metadata": {
      "needs_background": "light"
     },
     "output_type": "display_data"
    }
   ],
   "source": [
    "import matplotlib.pyplot as plt\n",
    "import numpy as np\n",
    "\n",
    "plt.style.use('_mpl-gallery')\n",
    "\n",
    "# make data\n",
    "x = np.linspace(1, 100, len(a))\n",
    "\n",
    "# plot\n",
    "fig, ax = plt.subplots()\n",
    "\n",
    "\n",
    "ax.plot(x, list(a), linewidth=2.0)\n",
    "# ax.plot(x, list(noice), linewidth=2.0)\n",
    "ax.plot(x, list(noice2), linewidth=2.0)\n",
    "\n",
    "\n",
    "\n",
    "ax.set(xlim=(0, 100), xticks=np.arange(0, 99,10),\n",
    "       ylim=(0, 100), yticks=np.arange(0, 99,10))\n",
    "\n",
    "plt.show()"
   ]
  },
  {
   "cell_type": "markdown",
   "metadata": {},
   "source": [
    "# Gaussian Noise"
   ]
  },
  {
   "cell_type": "code",
   "execution_count": 148,
   "metadata": {},
   "outputs": [
    {
     "data": {
      "text/plain": [
       "816.6666666666666"
      ]
     },
     "execution_count": 148,
     "metadata": {},
     "output_type": "execute_result"
    }
   ],
   "source": [
    "sigma_signal = numpy.var(a)\n",
    "sigma_signal"
   ]
  },
  {
   "cell_type": "code",
   "execution_count": 149,
   "metadata": {},
   "outputs": [
    {
     "data": {
      "text/plain": [
       "12.780193008453875"
      ]
     },
     "execution_count": 149,
     "metadata": {},
     "output_type": "execute_result"
    }
   ],
   "source": [
    "sigma_noise = numpy.sqrt( sigma_signal / 5)\n",
    "sigma_noise"
   ]
  },
  {
   "cell_type": "code",
   "execution_count": 150,
   "metadata": {},
   "outputs": [],
   "source": [
    "noise = numpy.random.normal(0, sigma_noise, len(a))"
   ]
  },
  {
   "cell_type": "code",
   "execution_count": 151,
   "metadata": {},
   "outputs": [
    {
     "data": {
      "text/plain": [
       "array([ 10.1195004 ,  10.57992031, -12.88551135, -12.609376  ,\n",
       "        -4.91185724,   4.43844317,   3.70519879,  18.23736281,\n",
       "        13.34039639,  34.3241953 ,   4.92169159,  16.22707848,\n",
       "        28.82041235,  -4.96118986,  30.47052361,  22.41326335,\n",
       "        13.73683271,  -2.90230211,   5.49781908,  10.99081491,\n",
       "        48.91023904,  20.55690549,  31.61590645,  48.25418844,\n",
       "        21.83614227,  34.95602082,   8.4862602 ,  40.52223706,\n",
       "        33.07058689,  16.15963379,  44.58594893,  35.35571267,\n",
       "        19.86280017,  45.53461985,  40.63989435,  45.11694262,\n",
       "        21.84273446,  46.38989606,  22.41677283,  30.41937377,\n",
       "        28.30531756,  58.99842872,  38.30380302,  27.27657042,\n",
       "        27.23068595,  39.19630142,  37.46419209,  71.28227937,\n",
       "        58.57312208,  70.32014676,  46.2608186 ,  45.30132256,\n",
       "        71.94919049,  37.09950662,  24.70879401,  59.01535203,\n",
       "        61.53287641,  73.86745605,  56.58044367,  65.35197494,\n",
       "        57.10249409,  80.41184103,  59.46742119,  76.79055128,\n",
       "        75.13498933,  70.95522213,  67.93573309,  72.94061812,\n",
       "        58.96237596,  69.4655193 ,  74.61839967,  58.15875067,\n",
       "        86.44248087,  51.68739502,  74.67944513,  66.89726701,\n",
       "        86.35782246,  84.26874846,  77.24124173,  87.28575258,\n",
       "        70.25756252,  70.65670824,  78.56606843,  86.06689126,\n",
       "        95.63425339,  87.83877552,  78.5591275 ,  71.64197535,\n",
       "        88.3608074 ,  69.66854762,  82.45274947,  94.25683197,\n",
       "        96.76376695, 100.73525369, 109.42825479, 104.61168154,\n",
       "        92.33462012,  98.23903953, 106.85213408])"
      ]
     },
     "execution_count": 151,
     "metadata": {},
     "output_type": "execute_result"
    }
   ],
   "source": [
    "a + noise"
   ]
  },
  {
   "cell_type": "code",
   "execution_count": 152,
   "metadata": {},
   "outputs": [
    {
     "data": {
      "image/png": "[encoded data removed]",
      "text/plain": [
       "<Figure size 144x144 with 1 Axes>"
      ]
     },
     "metadata": {
      "needs_background": "light"
     },
     "output_type": "display_data"
    }
   ],
   "source": [
    "import matplotlib.pyplot as plt\n",
    "import numpy as np\n",
    "\n",
    "plt.style.use('_mpl-gallery')\n",
    "\n",
    "# make data\n",
    "x = np.linspace(1, 100, len(a))\n",
    "\n",
    "# plot\n",
    "fig, ax = plt.subplots()\n",
    "\n",
    "\n",
    "ax.plot(x, list(a), linewidth=2.0)\n",
    "ax.plot(x, list(a + noise), linewidth=2.0)\n",
    "\n",
    "\n",
    "ax.set(xlim=(0, 100), xticks=np.arange(0, 99,10),\n",
    "       ylim=(0, 100), yticks=np.arange(0, 99,10))\n",
    "\n",
    "plt.show()"
   ]
  },
  {
   "cell_type": "code",
   "execution_count": null,
   "metadata": {},
   "outputs": [],
   "source": []
  }
 ],
 "metadata": {
  "kernelspec": {
   "display_name": "euralgo",
   "language": "python",
   "name": "python3"
  },
  "language_info": {
   "codemirror_mode": {
    "name": "ipython",
    "version": 3
   },
   "file_extension": ".py",
   "mimetype": "text/x-python",
   "name": "python",
   "nbconvert_exporter": "python",
   "pygments_lexer": "ipython3",
   "version": "3.7.16"
  }
 },
 "nbformat": 4,
 "nbformat_minor": 2
}
