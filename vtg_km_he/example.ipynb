{
 "cells": [
  {
   "cell_type": "code",
   "execution_count": 1,
   "metadata": {},
   "outputs": [],
   "source": [
    "from vantage6.algorithm.tools.mock_client import MockAlgorithmClient\n",
    "import numpy as np\n",
    "import os; os.chdir(\"..\")\n",
    "import warnings\n",
    "import pandas as pd\n",
    "warnings.filterwarnings(\"ignore\")"
   ]
  },
  {
   "cell_type": "code",
   "execution_count": 2,
   "metadata": {},
   "outputs": [
    {
     "data": {
      "text/html": [
       "<div>\n",
       "<style scoped>\n",
       "    .dataframe tbody tr th:only-of-type {\n",
       "        vertical-align: middle;\n",
       "    }\n",
       "\n",
       "    .dataframe tbody tr th {\n",
       "        vertical-align: top;\n",
       "    }\n",
       "\n",
       "    .dataframe thead th {\n",
       "        text-align: right;\n",
       "    }\n",
       "</style>\n",
       "<table border=\"1\" class=\"dataframe\">\n",
       "  <thead>\n",
       "    <tr style=\"text-align: right;\">\n",
       "      <th></th>\n",
       "      <th>0</th>\n",
       "      <th>1</th>\n",
       "      <th>2</th>\n",
       "      <th>3</th>\n",
       "      <th>4</th>\n",
       "      <th>C</th>\n",
       "      <th>T</th>\n",
       "    </tr>\n",
       "  </thead>\n",
       "  <tbody>\n",
       "    <tr>\n",
       "      <th>0</th>\n",
       "      <td>-0.04518</td>\n",
       "      <td>-0.15407</td>\n",
       "      <td>-0.38322</td>\n",
       "      <td>-0.16410</td>\n",
       "      <td>0.18149</td>\n",
       "      <td>1.0</td>\n",
       "      <td>1.0</td>\n",
       "    </tr>\n",
       "    <tr>\n",
       "      <th>1</th>\n",
       "      <td>0.13559</td>\n",
       "      <td>0.43563</td>\n",
       "      <td>0.01046</td>\n",
       "      <td>-0.06103</td>\n",
       "      <td>0.22061</td>\n",
       "      <td>0.0</td>\n",
       "      <td>25.0</td>\n",
       "    </tr>\n",
       "    <tr>\n",
       "      <th>2</th>\n",
       "      <td>0.25824</td>\n",
       "      <td>0.25285</td>\n",
       "      <td>0.33758</td>\n",
       "      <td>0.23398</td>\n",
       "      <td>-0.12381</td>\n",
       "      <td>0.0</td>\n",
       "      <td>53.0</td>\n",
       "    </tr>\n",
       "    <tr>\n",
       "      <th>3</th>\n",
       "      <td>-0.36326</td>\n",
       "      <td>-0.14392</td>\n",
       "      <td>-0.30458</td>\n",
       "      <td>0.25528</td>\n",
       "      <td>0.39562</td>\n",
       "      <td>1.0</td>\n",
       "      <td>12.0</td>\n",
       "    </tr>\n",
       "    <tr>\n",
       "      <th>4</th>\n",
       "      <td>-0.42186</td>\n",
       "      <td>-0.25667</td>\n",
       "      <td>0.23794</td>\n",
       "      <td>-0.27736</td>\n",
       "      <td>0.12835</td>\n",
       "      <td>1.0</td>\n",
       "      <td>31.0</td>\n",
       "    </tr>\n",
       "    <tr>\n",
       "      <th>...</th>\n",
       "      <td>...</td>\n",
       "      <td>...</td>\n",
       "      <td>...</td>\n",
       "      <td>...</td>\n",
       "      <td>...</td>\n",
       "      <td>...</td>\n",
       "      <td>...</td>\n",
       "    </tr>\n",
       "    <tr>\n",
       "      <th>195</th>\n",
       "      <td>-0.15622</td>\n",
       "      <td>0.36398</td>\n",
       "      <td>0.18487</td>\n",
       "      <td>-0.32684</td>\n",
       "      <td>-0.07903</td>\n",
       "      <td>1.0</td>\n",
       "      <td>52.0</td>\n",
       "    </tr>\n",
       "    <tr>\n",
       "      <th>196</th>\n",
       "      <td>0.33239</td>\n",
       "      <td>0.37361</td>\n",
       "      <td>0.30750</td>\n",
       "      <td>0.02121</td>\n",
       "      <td>-0.33076</td>\n",
       "      <td>1.0</td>\n",
       "      <td>28.0</td>\n",
       "    </tr>\n",
       "    <tr>\n",
       "      <th>197</th>\n",
       "      <td>0.35748</td>\n",
       "      <td>-0.20104</td>\n",
       "      <td>-0.41990</td>\n",
       "      <td>0.06762</td>\n",
       "      <td>-0.27252</td>\n",
       "      <td>1.0</td>\n",
       "      <td>23.0</td>\n",
       "    </tr>\n",
       "    <tr>\n",
       "      <th>198</th>\n",
       "      <td>-0.43103</td>\n",
       "      <td>0.13096</td>\n",
       "      <td>0.35723</td>\n",
       "      <td>0.44050</td>\n",
       "      <td>0.05443</td>\n",
       "      <td>1.0</td>\n",
       "      <td>6.0</td>\n",
       "    </tr>\n",
       "    <tr>\n",
       "      <th>199</th>\n",
       "      <td>-0.26757</td>\n",
       "      <td>-0.40410</td>\n",
       "      <td>0.10952</td>\n",
       "      <td>0.25397</td>\n",
       "      <td>0.08810</td>\n",
       "      <td>0.0</td>\n",
       "      <td>47.0</td>\n",
       "    </tr>\n",
       "  </tbody>\n",
       "</table>\n",
       "<p>200 rows × 7 columns</p>\n",
       "</div>"
      ],
      "text/plain": [
       "           0        1        2        3        4    C     T\n",
       "0   -0.04518 -0.15407 -0.38322 -0.16410  0.18149  1.0   1.0\n",
       "1    0.13559  0.43563  0.01046 -0.06103  0.22061  0.0  25.0\n",
       "2    0.25824  0.25285  0.33758  0.23398 -0.12381  0.0  53.0\n",
       "3   -0.36326 -0.14392 -0.30458  0.25528  0.39562  1.0  12.0\n",
       "4   -0.42186 -0.25667  0.23794 -0.27736  0.12835  1.0  31.0\n",
       "..       ...      ...      ...      ...      ...  ...   ...\n",
       "195 -0.15622  0.36398  0.18487 -0.32684 -0.07903  1.0  52.0\n",
       "196  0.33239  0.37361  0.30750  0.02121 -0.33076  1.0  28.0\n",
       "197  0.35748 -0.20104 -0.41990  0.06762 -0.27252  1.0  23.0\n",
       "198 -0.43103  0.13096  0.35723  0.44050  0.05443  1.0   6.0\n",
       "199 -0.26757 -0.40410  0.10952  0.25397  0.08810  0.0  47.0\n",
       "\n",
       "[200 rows x 7 columns]"
      ]
     },
     "execution_count": 2,
     "metadata": {},
     "output_type": "execute_result"
    }
   ],
   "source": [
    "data_dir = os.path.join(os.getcwd(), \"./vtg_km_he\", \"local\")\n",
    "data_path = os.path.join(data_dir, \"data_test.csv\")\n",
    "df = pd.read_csv(data_path)\n",
    "df"
   ]
  },
  {
   "cell_type": "code",
   "execution_count": 3,
   "metadata": {},
   "outputs": [],
   "source": [
    "# Partitioning data\n",
    "# data_dir = os.path.join(os.getcwd(), \"vtg_km_he\", \"local\")\n",
    "# data_path = os.path.join(data_dir, \"data_test.csv\")\n",
    "# data1_path = os.path.join(data_dir, \"data1.csv\")\n",
    "# data2_path = os.path.join(data_dir, \"data2.csv\")\n",
    "# print(data2_path)\n",
    "\n",
    "# df = pd.read_csv(data_path)\n",
    "# df[\"COHORT_DEFINITION_ID\"] = np.random.randint(low=0, high=2, size=(df.shape[0],))\n",
    "# df = df.rename(columns={'T':'TIME_AT_RISK','C':'MORTALITY_FLAG'}, inplace=False) \n",
    "# df = df.sample(frac=1) # Shuffle data\n",
    "# display(df)\n",
    "\n",
    "\n",
    "# df[0:int(len(df)/2)].to_csv(data1_path)\n",
    "# df[int(len(df)/2):].to_csv(data2_path)"
   ]
  },
  {
   "cell_type": "code",
   "execution_count": 4,
   "metadata": {},
   "outputs": [
    {
     "data": {
      "text/plain": [
       "{'database': '../Synthetic_outcomes/Synthetic_outcomes_high_prev.csv',\n",
       " 'db_type': 'csv'}"
      ]
     },
     "metadata": {},
     "output_type": "display_data"
    },
    {
     "data": {
      "text/plain": [
       "{'database': '../Synthetic_outcomes/Synthetic_outcomes_low_prev.csv',\n",
       " 'db_type': 'csv'}"
      ]
     },
     "metadata": {},
     "output_type": "display_data"
    }
   ],
   "source": [
    "JAMES_DATA_RUN = True\n",
    "\n",
    "if JAMES_DATA_RUN:\n",
    "    dataset_1 = {\"database\": \"../Synthetic_outcomes/Synthetic_outcomes_high_prev.csv\", \"db_type\": \"csv\"}\n",
    "    dataset_2 = {\"database\": \"../Synthetic_outcomes/Synthetic_outcomes_low_prev.csv\", \"db_type\": \"csv\"}\n",
    "else:\n",
    "    dataset_1 = {\"database\": \"./vtg_km_he/local/data1.csv\", \"db_type\": \"csv\"}\n",
    "    dataset_2 = {\"database\": \"./vtg_km_he/local/data2.csv\", \"db_type\": \"csv\"}\n",
    "\n",
    "org_ids = ids = [0, 1]\n",
    "display(dataset_1, dataset_2)"
   ]
  },
  {
   "cell_type": "code",
   "execution_count": 5,
   "metadata": {},
   "outputs": [],
   "source": [
    "client = MockAlgorithmClient(\n",
    "    datasets = [[dataset_1], [dataset_2]],\n",
    "    organization_ids=org_ids,\n",
    "    module=\"vtg_km_he\"\n",
    ")"
   ]
  },
  {
   "cell_type": "code",
   "execution_count": 6,
   "metadata": {},
   "outputs": [],
   "source": [
    "organizations = client.organization.list()\n",
    "org_ids = ids = [organization[\"id\"] for organization in organizations]"
   ]
  },
  {
   "cell_type": "code",
   "execution_count": 8,
   "metadata": {},
   "outputs": [
    {
     "name": "stdout",
     "output_type": "stream",
     "text": [
      "info > Collecting information on participating organizations\n",
      "info > Sending task to organizations [0, 1]\n",
      "info > Collecting unique event times\n",
      "info > Sending task to organizations [0, 1]\n",
      "info > Waiting for results\n",
      "info > Mocking waiting for results\n",
      "info > Results obtained for get_unique_event_times!\n",
      "info > Collected unique event times for 2 organization(s)\n",
      "info > Collecting local event tables\n",
      "info > Sending task to organizations [0, 1]\n",
      "info > Sample size 7708\n",
      "info > Overall number of patients: 7708\n",
      "info > Number of patients in the cohort #1031: 794\n",
      "info > Sample size 7708\n",
      "info > Overall number of patients: 7708\n",
      "info > Number of patients in the cohort #1031: 794\n",
      "info > Waiting for results\n",
      "info > Mocking waiting for results\n",
      "info > Results obtained for get_km_event_table!\n",
      "info > Collected local event tables for 2 organization(s)\n",
      "info > Aggregating event tables\n",
      "info > Kaplan-Meier curve has been computed successfully\n"
     ]
    }
   ],
   "source": [
    "cohort_id = 1030\n",
    "\n",
    "average_task = client.task.create(\n",
    "    input_={\n",
    "        'master': 1,\n",
    "        'method': 'master',\n",
    "        'kwargs': {\n",
    "            'time_column': 'TIME_AT_RISK',\n",
    "            'censor_column':'MORTALITY_FLAG',\n",
    "            'cohort_id': cohort_id}\n",
    "    },\n",
    "    organizations=[org_ids[0]]\n",
    ")"
   ]
  },
  {
   "cell_type": "code",
   "execution_count": 9,
   "metadata": {},
   "outputs": [],
   "source": [
    "results = client.result.get(average_task.get(\"id\"))"
   ]
  },
  {
   "cell_type": "code",
   "execution_count": 11,
   "metadata": {},
   "outputs": [],
   "source": [
    "results['kaplanMeier'] = pd.read_json(results['kaplanMeier'])\n",
    "results['local_event_tables'] = [pd.read_json(value) for value in results['local_event_tables']]\n",
    "df_events = results['kaplanMeier']\n",
    "try:\n",
    "    results['kaplanMeier'].to_csv('results.csv')\n",
    "except:\n",
    "    results['kaplanMeierLR'].to_csv('results_lr.csv')\n",
    "    results['kaplanMeierHR'].to_csv('results_hr.csv')"
   ]
  },
  {
   "cell_type": "code",
   "execution_count": 13,
   "metadata": {},
   "outputs": [
    {
     "data": {
      "image/png": "[encoded data removed]",
      "text/plain": [
       "<Figure size 640x480 with 1 Axes>"
      ]
     },
     "metadata": {},
     "output_type": "display_data"
    }
   ],
   "source": [
    "import pandas as pd\n",
    "from lifelines import KaplanMeierFitter\n",
    "import matplotlib.pyplot as plt\n",
    "\n",
    "# Example data (replace this with your actual data)\n",
    "data = results['kaplanMeier']\n",
    "\n",
    "# Calculate 'AtRisk' from 'Total'\n",
    "data['AtRisk'] = data['Total'].cumsum()\n",
    "\n",
    "# Create a KaplanMeierFitter object\n",
    "kmf = KaplanMeierFitter()\n",
    "\n",
    "# Fit the data to KaplanMeierFitter\n",
    "kmf.fit(durations=data['TIME_AT_RISK'], event_observed=data['Deaths'], timeline=data['TIME_AT_RISK'])\n",
    "\n",
    "# Plot the Kaplan-Meier curve\n",
    "kmf.plot()\n",
    "plt.title(f'Kaplan-Meier Survival Curve for {cohort_id}')\n",
    "plt.xlabel('Time')\n",
    "plt.ylabel('Survival Probability')\n",
    "plt.show()\n"
   ]
  },
  {
   "cell_type": "code",
   "execution_count": null,
   "metadata": {},
   "outputs": [],
   "source": []
  }
 ],
 "metadata": {
  "kernelspec": {
   "display_name": "v6_4_env",
   "language": "python",
   "name": "python3"
  },
  "language_info": {
   "codemirror_mode": {
    "name": "ipython",
    "version": 3
   },
   "file_extension": ".py",
   "mimetype": "text/x-python",
   "name": "python",
   "nbconvert_exporter": "python",
   "pygments_lexer": "ipython3",
   "version": "3.10.13"
  }
 },
 "nbformat": 4,
 "nbformat_minor": 2
}
